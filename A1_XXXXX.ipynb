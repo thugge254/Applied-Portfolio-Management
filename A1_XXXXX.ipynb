{
 "cells": [
  {
   "cell_type": "markdown",
   "id": "e546f1fe",
   "metadata": {},
   "source": [
    "# Name\n",
    "# student ID"
   ]
  },
  {
   "cell_type": "code",
   "execution_count": 77,
   "id": "67bbeda3",
   "metadata": {},
   "outputs": [],
   "source": [
    "import apmodule               #import the apmodule\n",
    "import numpy as np            # Numerical and mathematical operations\n",
    "import pandas as pd           # Data manipulation and analysis\n",
    "import matplotlib.pyplot as plt  # Data visualization\n",
    "# Import libraries for statistical analysis\n",
    "import scipy.stats as stats   # Statistical functions and tests\n",
    "\n",
    "# Import libraries for machine learning and data modeling\n",
    "from sklearn import datasets  # Datasets for machine learning\n",
    "from sklearn.model_selection import train_test_split  # Splitting data for training and testing\n",
    "\n",
    "# Import libraries for working with dates and times\n",
    "import datetime as dt\n",
    "import time\n",
    "\n",
    "# Import libraries for handling files and directories\n",
    "import os\n",
    "import glob\n",
    "\n",
    "# Import libraries for web scraping\n",
    "import requests\n",
    "from bs4 import BeautifulSoup\n",
    "\n",
    "# Import libraries for advanced data analysis and visualization\n",
    "import seaborn as sns         # Statistical data visualization\n",
    "import plotly.express as px   # Interactive plots\n",
    "\n",
    "# Import libraries for natural language processing (NLP)\n",
    "import nltk"
   ]
  },
  {
   "cell_type": "markdown",
   "id": "71f1ff8a",
   "metadata": {},
   "source": [
    "### Load Data"
   ]
  },
  {
   "cell_type": "code",
   "execution_count": 93,
   "id": "e4da289b",
   "metadata": {},
   "outputs": [],
   "source": [
    "GROWTH = pd.read_csv('GROWTH.csv')\n",
    "MACRO = pd.read_csv('Macro.csv')\n",
    "QUALITY = pd.read_csv('QUALITY.csv')\n",
    "Market_cap = pd.read_csv('Market_cap.csv')\n",
    "names = pd.read_csv('names.csv')\n",
    "Prices = pd.read_csv('Prices.csv')\n",
    "PROFIT = pd.read_csv('PROFIT.csv')\n",
    "SAFETY = pd.read_csv('SAFETY.csv')"
   ]
  },
  {
   "cell_type": "code",
   "execution_count": 51,
   "id": "f426dcad",
   "metadata": {},
   "outputs": [],
   "source": [
    "\n",
    "def load_csv_data(file_pattern):\n",
    "   \n",
    "    csv_files = glob.glob(file_pattern)\n",
    "\n",
    "    dataframes = []\n",
    "    for file in csv_files:\n",
    "        df = pd.read_csv(file)\n",
    "        dataframes.append(df)\n",
    "\n",
    "    return dataframes\n",
    "\n",
    "# Define the file pattern (e.g., '*.csv' to match all CSV files in the current directory)\n",
    "file_pattern = '*.csv'\n",
    "\n",
    "# Call the user-generated function to load the data\n",
    "dataframes = load_csv_data(file_pattern)\n",
    "\n",
    "# Now, dataframes is a list of Pandas DataFrames, each containing the data from one CSV file\n"
   ]
  },
  {
   "cell_type": "code",
   "execution_count": 52,
   "id": "62309379",
   "metadata": {
    "scrolled": true
   },
   "outputs": [
    {
     "data": {
      "text/html": [
       "<div>\n",
       "<style scoped>\n",
       "    .dataframe tbody tr th:only-of-type {\n",
       "        vertical-align: middle;\n",
       "    }\n",
       "\n",
       "    .dataframe tbody tr th {\n",
       "        vertical-align: top;\n",
       "    }\n",
       "\n",
       "    .dataframe thead th {\n",
       "        text-align: right;\n",
       "    }\n",
       "</style>\n",
       "<table border=\"1\" class=\"dataframe\">\n",
       "  <thead>\n",
       "    <tr style=\"text-align: right;\">\n",
       "      <th></th>\n",
       "      <th>id</th>\n",
       "      <th>date</th>\n",
       "      <th>growth</th>\n",
       "    </tr>\n",
       "  </thead>\n",
       "  <tbody>\n",
       "    <tr>\n",
       "      <th>0</th>\n",
       "      <td>10001</td>\n",
       "      <td>1992-09-30</td>\n",
       "      <td>1.122329</td>\n",
       "    </tr>\n",
       "    <tr>\n",
       "      <th>1</th>\n",
       "      <td>10001</td>\n",
       "      <td>1992-10-30</td>\n",
       "      <td>1.118169</td>\n",
       "    </tr>\n",
       "    <tr>\n",
       "      <th>2</th>\n",
       "      <td>10001</td>\n",
       "      <td>1992-11-30</td>\n",
       "      <td>1.118659</td>\n",
       "    </tr>\n",
       "    <tr>\n",
       "      <th>3</th>\n",
       "      <td>10001</td>\n",
       "      <td>1992-12-31</td>\n",
       "      <td>1.120449</td>\n",
       "    </tr>\n",
       "    <tr>\n",
       "      <th>4</th>\n",
       "      <td>10001</td>\n",
       "      <td>1993-01-29</td>\n",
       "      <td>1.115662</td>\n",
       "    </tr>\n",
       "  </tbody>\n",
       "</table>\n",
       "</div>"
      ],
      "text/plain": [
       "      id        date    growth\n",
       "0  10001  1992-09-30  1.122329\n",
       "1  10001  1992-10-30  1.118169\n",
       "2  10001  1992-11-30  1.118659\n",
       "3  10001  1992-12-31  1.120449\n",
       "4  10001  1993-01-29  1.115662"
      ]
     },
     "metadata": {},
     "output_type": "display_data"
    },
    {
     "data": {
      "text/html": [
       "<div>\n",
       "<style scoped>\n",
       "    .dataframe tbody tr th:only-of-type {\n",
       "        vertical-align: middle;\n",
       "    }\n",
       "\n",
       "    .dataframe tbody tr th {\n",
       "        vertical-align: top;\n",
       "    }\n",
       "\n",
       "    .dataframe thead th {\n",
       "        text-align: right;\n",
       "    }\n",
       "</style>\n",
       "<table border=\"1\" class=\"dataframe\">\n",
       "  <thead>\n",
       "    <tr style=\"text-align: right;\">\n",
       "      <th></th>\n",
       "      <th>DATE</th>\n",
       "      <th>INFL</th>\n",
       "      <th>10YTR</th>\n",
       "      <th>1YTR</th>\n",
       "      <th>UNRATE</th>\n",
       "      <th>UMCSENT</th>\n",
       "      <th>Unnamed: 6</th>\n",
       "      <th>Unnamed: 7</th>\n",
       "    </tr>\n",
       "  </thead>\n",
       "  <tbody>\n",
       "    <tr>\n",
       "      <th>0</th>\n",
       "      <td>31/01/1978</td>\n",
       "      <td>6.40809</td>\n",
       "      <td>7.96</td>\n",
       "      <td>7.28</td>\n",
       "      <td>6.4</td>\n",
       "      <td>83.7</td>\n",
       "      <td>NaN</td>\n",
       "      <td>NaN</td>\n",
       "    </tr>\n",
       "    <tr>\n",
       "      <th>1</th>\n",
       "      <td>28/02/1978</td>\n",
       "      <td>6.19765</td>\n",
       "      <td>8.03</td>\n",
       "      <td>7.34</td>\n",
       "      <td>6.3</td>\n",
       "      <td>84.3</td>\n",
       "      <td>NaN</td>\n",
       "      <td>NaN</td>\n",
       "    </tr>\n",
       "    <tr>\n",
       "      <th>2</th>\n",
       "      <td>31/03/1978</td>\n",
       "      <td>6.33333</td>\n",
       "      <td>8.04</td>\n",
       "      <td>7.31</td>\n",
       "      <td>6.3</td>\n",
       "      <td>78.8</td>\n",
       "      <td>NaN</td>\n",
       "      <td>NaN</td>\n",
       "    </tr>\n",
       "    <tr>\n",
       "      <th>3</th>\n",
       "      <td>30/04/1978</td>\n",
       "      <td>6.63350</td>\n",
       "      <td>8.15</td>\n",
       "      <td>7.45</td>\n",
       "      <td>6.1</td>\n",
       "      <td>81.6</td>\n",
       "      <td>NaN</td>\n",
       "      <td>NaN</td>\n",
       "    </tr>\n",
       "    <tr>\n",
       "      <th>4</th>\n",
       "      <td>31/05/1978</td>\n",
       "      <td>6.76568</td>\n",
       "      <td>8.35</td>\n",
       "      <td>7.82</td>\n",
       "      <td>6.0</td>\n",
       "      <td>82.9</td>\n",
       "      <td>NaN</td>\n",
       "      <td>NaN</td>\n",
       "    </tr>\n",
       "  </tbody>\n",
       "</table>\n",
       "</div>"
      ],
      "text/plain": [
       "         DATE     INFL  10YTR  1YTR  UNRATE  UMCSENT  Unnamed: 6  Unnamed: 7\n",
       "0  31/01/1978  6.40809   7.96  7.28     6.4     83.7         NaN         NaN\n",
       "1  28/02/1978  6.19765   8.03  7.34     6.3     84.3         NaN         NaN\n",
       "2  31/03/1978  6.33333   8.04  7.31     6.3     78.8         NaN         NaN\n",
       "3  30/04/1978  6.63350   8.15  7.45     6.1     81.6         NaN         NaN\n",
       "4  31/05/1978  6.76568   8.35  7.82     6.0     82.9         NaN         NaN"
      ]
     },
     "metadata": {},
     "output_type": "display_data"
    },
    {
     "data": {
      "text/html": [
       "<div>\n",
       "<style scoped>\n",
       "    .dataframe tbody tr th:only-of-type {\n",
       "        vertical-align: middle;\n",
       "    }\n",
       "\n",
       "    .dataframe tbody tr th {\n",
       "        vertical-align: top;\n",
       "    }\n",
       "\n",
       "    .dataframe thead th {\n",
       "        text-align: right;\n",
       "    }\n",
       "</style>\n",
       "<table border=\"1\" class=\"dataframe\">\n",
       "  <thead>\n",
       "    <tr style=\"text-align: right;\">\n",
       "      <th></th>\n",
       "      <th>id</th>\n",
       "      <th>date</th>\n",
       "      <th>market_cap</th>\n",
       "    </tr>\n",
       "  </thead>\n",
       "  <tbody>\n",
       "    <tr>\n",
       "      <th>0</th>\n",
       "      <td>10000</td>\n",
       "      <td>1986-01-31</td>\n",
       "      <td>16100.000000</td>\n",
       "    </tr>\n",
       "    <tr>\n",
       "      <th>1</th>\n",
       "      <td>10000</td>\n",
       "      <td>1986-02-28</td>\n",
       "      <td>11960.000000</td>\n",
       "    </tr>\n",
       "    <tr>\n",
       "      <th>2</th>\n",
       "      <td>10000</td>\n",
       "      <td>1986-03-31</td>\n",
       "      <td>16330.000000</td>\n",
       "    </tr>\n",
       "    <tr>\n",
       "      <th>3</th>\n",
       "      <td>10000</td>\n",
       "      <td>1986-04-30</td>\n",
       "      <td>15172.000000</td>\n",
       "    </tr>\n",
       "    <tr>\n",
       "      <th>4</th>\n",
       "      <td>10000</td>\n",
       "      <td>1986-05-30</td>\n",
       "      <td>11793.859375</td>\n",
       "    </tr>\n",
       "  </tbody>\n",
       "</table>\n",
       "</div>"
      ],
      "text/plain": [
       "      id        date    market_cap\n",
       "0  10000  1986-01-31  16100.000000\n",
       "1  10000  1986-02-28  11960.000000\n",
       "2  10000  1986-03-31  16330.000000\n",
       "3  10000  1986-04-30  15172.000000\n",
       "4  10000  1986-05-30  11793.859375"
      ]
     },
     "metadata": {},
     "output_type": "display_data"
    },
    {
     "data": {
      "text/html": [
       "<div>\n",
       "<style scoped>\n",
       "    .dataframe tbody tr th:only-of-type {\n",
       "        vertical-align: middle;\n",
       "    }\n",
       "\n",
       "    .dataframe tbody tr th {\n",
       "        vertical-align: top;\n",
       "    }\n",
       "\n",
       "    .dataframe thead th {\n",
       "        text-align: right;\n",
       "    }\n",
       "</style>\n",
       "<table border=\"1\" class=\"dataframe\">\n",
       "  <thead>\n",
       "    <tr style=\"text-align: right;\">\n",
       "      <th></th>\n",
       "      <th>id</th>\n",
       "      <th>name</th>\n",
       "      <th>industry</th>\n",
       "    </tr>\n",
       "  </thead>\n",
       "  <tbody>\n",
       "    <tr>\n",
       "      <th>0</th>\n",
       "      <td>10001</td>\n",
       "      <td>GAS NATURAL INC</td>\n",
       "      <td>Utilities</td>\n",
       "    </tr>\n",
       "    <tr>\n",
       "      <th>1</th>\n",
       "      <td>10002</td>\n",
       "      <td>BANCTRUST FINANCIAL GROUP INC</td>\n",
       "      <td>Finance</td>\n",
       "    </tr>\n",
       "    <tr>\n",
       "      <th>2</th>\n",
       "      <td>10003</td>\n",
       "      <td>GREAT COUNTRY BK ASONIA CT</td>\n",
       "      <td>Finance</td>\n",
       "    </tr>\n",
       "    <tr>\n",
       "      <th>3</th>\n",
       "      <td>10005</td>\n",
       "      <td>WESTERN ENERGY RESOURCES INC</td>\n",
       "      <td>Oil, Gas, and Coal</td>\n",
       "    </tr>\n",
       "    <tr>\n",
       "      <th>4</th>\n",
       "      <td>10006</td>\n",
       "      <td>A C F INDUSTRIES INC</td>\n",
       "      <td>Manufacturing</td>\n",
       "    </tr>\n",
       "  </tbody>\n",
       "</table>\n",
       "</div>"
      ],
      "text/plain": [
       "      id                           name            industry\n",
       "0  10001                GAS NATURAL INC           Utilities\n",
       "1  10002  BANCTRUST FINANCIAL GROUP INC             Finance\n",
       "2  10003     GREAT COUNTRY BK ASONIA CT             Finance\n",
       "3  10005   WESTERN ENERGY RESOURCES INC  Oil, Gas, and Coal\n",
       "4  10006           A C F INDUSTRIES INC       Manufacturing"
      ]
     },
     "metadata": {},
     "output_type": "display_data"
    },
    {
     "data": {
      "text/html": [
       "<div>\n",
       "<style scoped>\n",
       "    .dataframe tbody tr th:only-of-type {\n",
       "        vertical-align: middle;\n",
       "    }\n",
       "\n",
       "    .dataframe tbody tr th {\n",
       "        vertical-align: top;\n",
       "    }\n",
       "\n",
       "    .dataframe thead th {\n",
       "        text-align: right;\n",
       "    }\n",
       "</style>\n",
       "<table border=\"1\" class=\"dataframe\">\n",
       "  <thead>\n",
       "    <tr style=\"text-align: right;\">\n",
       "      <th></th>\n",
       "      <th>id</th>\n",
       "      <th>date</th>\n",
       "      <th>price</th>\n",
       "    </tr>\n",
       "  </thead>\n",
       "  <tbody>\n",
       "    <tr>\n",
       "      <th>0</th>\n",
       "      <td>10000</td>\n",
       "      <td>1986-01-31</td>\n",
       "      <td>4.375001</td>\n",
       "    </tr>\n",
       "    <tr>\n",
       "      <th>1</th>\n",
       "      <td>10000</td>\n",
       "      <td>1986-02-28</td>\n",
       "      <td>3.250000</td>\n",
       "    </tr>\n",
       "    <tr>\n",
       "      <th>2</th>\n",
       "      <td>10000</td>\n",
       "      <td>1986-03-31</td>\n",
       "      <td>4.437500</td>\n",
       "    </tr>\n",
       "    <tr>\n",
       "      <th>3</th>\n",
       "      <td>10000</td>\n",
       "      <td>1986-04-30</td>\n",
       "      <td>4.000000</td>\n",
       "    </tr>\n",
       "    <tr>\n",
       "      <th>4</th>\n",
       "      <td>10000</td>\n",
       "      <td>1986-05-30</td>\n",
       "      <td>3.109375</td>\n",
       "    </tr>\n",
       "  </tbody>\n",
       "</table>\n",
       "</div>"
      ],
      "text/plain": [
       "      id        date     price\n",
       "0  10000  1986-01-31  4.375001\n",
       "1  10000  1986-02-28  3.250000\n",
       "2  10000  1986-03-31  4.437500\n",
       "3  10000  1986-04-30  4.000000\n",
       "4  10000  1986-05-30  3.109375"
      ]
     },
     "metadata": {},
     "output_type": "display_data"
    },
    {
     "data": {
      "text/html": [
       "<div>\n",
       "<style scoped>\n",
       "    .dataframe tbody tr th:only-of-type {\n",
       "        vertical-align: middle;\n",
       "    }\n",
       "\n",
       "    .dataframe tbody tr th {\n",
       "        vertical-align: top;\n",
       "    }\n",
       "\n",
       "    .dataframe thead th {\n",
       "        text-align: right;\n",
       "    }\n",
       "</style>\n",
       "<table border=\"1\" class=\"dataframe\">\n",
       "  <thead>\n",
       "    <tr style=\"text-align: right;\">\n",
       "      <th></th>\n",
       "      <th>id</th>\n",
       "      <th>date</th>\n",
       "      <th>profit</th>\n",
       "    </tr>\n",
       "  </thead>\n",
       "  <tbody>\n",
       "    <tr>\n",
       "      <th>0</th>\n",
       "      <td>10000</td>\n",
       "      <td>1987-01-30</td>\n",
       "      <td>-2.646160</td>\n",
       "    </tr>\n",
       "    <tr>\n",
       "      <th>1</th>\n",
       "      <td>10000</td>\n",
       "      <td>1987-02-27</td>\n",
       "      <td>-2.650545</td>\n",
       "    </tr>\n",
       "    <tr>\n",
       "      <th>2</th>\n",
       "      <td>10000</td>\n",
       "      <td>1987-03-31</td>\n",
       "      <td>-2.508989</td>\n",
       "    </tr>\n",
       "    <tr>\n",
       "      <th>3</th>\n",
       "      <td>10000</td>\n",
       "      <td>1987-04-30</td>\n",
       "      <td>-2.518252</td>\n",
       "    </tr>\n",
       "    <tr>\n",
       "      <th>4</th>\n",
       "      <td>10000</td>\n",
       "      <td>1987-05-29</td>\n",
       "      <td>-2.511832</td>\n",
       "    </tr>\n",
       "  </tbody>\n",
       "</table>\n",
       "</div>"
      ],
      "text/plain": [
       "      id        date    profit\n",
       "0  10000  1987-01-30 -2.646160\n",
       "1  10000  1987-02-27 -2.650545\n",
       "2  10000  1987-03-31 -2.508989\n",
       "3  10000  1987-04-30 -2.518252\n",
       "4  10000  1987-05-29 -2.511832"
      ]
     },
     "metadata": {},
     "output_type": "display_data"
    },
    {
     "data": {
      "text/html": [
       "<div>\n",
       "<style scoped>\n",
       "    .dataframe tbody tr th:only-of-type {\n",
       "        vertical-align: middle;\n",
       "    }\n",
       "\n",
       "    .dataframe tbody tr th {\n",
       "        vertical-align: top;\n",
       "    }\n",
       "\n",
       "    .dataframe thead th {\n",
       "        text-align: right;\n",
       "    }\n",
       "</style>\n",
       "<table border=\"1\" class=\"dataframe\">\n",
       "  <thead>\n",
       "    <tr style=\"text-align: right;\">\n",
       "      <th></th>\n",
       "      <th>id</th>\n",
       "      <th>date</th>\n",
       "      <th>quality</th>\n",
       "    </tr>\n",
       "  </thead>\n",
       "  <tbody>\n",
       "    <tr>\n",
       "      <th>0</th>\n",
       "      <td>10001</td>\n",
       "      <td>1996-07-31</td>\n",
       "      <td>-0.383315</td>\n",
       "    </tr>\n",
       "    <tr>\n",
       "      <th>1</th>\n",
       "      <td>10001</td>\n",
       "      <td>1996-08-30</td>\n",
       "      <td>-0.383161</td>\n",
       "    </tr>\n",
       "    <tr>\n",
       "      <th>2</th>\n",
       "      <td>10001</td>\n",
       "      <td>1996-09-30</td>\n",
       "      <td>-0.867538</td>\n",
       "    </tr>\n",
       "    <tr>\n",
       "      <th>3</th>\n",
       "      <td>10001</td>\n",
       "      <td>1996-10-31</td>\n",
       "      <td>-0.868512</td>\n",
       "    </tr>\n",
       "    <tr>\n",
       "      <th>4</th>\n",
       "      <td>10001</td>\n",
       "      <td>1996-11-29</td>\n",
       "      <td>-0.871250</td>\n",
       "    </tr>\n",
       "  </tbody>\n",
       "</table>\n",
       "</div>"
      ],
      "text/plain": [
       "      id        date   quality\n",
       "0  10001  1996-07-31 -0.383315\n",
       "1  10001  1996-08-30 -0.383161\n",
       "2  10001  1996-09-30 -0.867538\n",
       "3  10001  1996-10-31 -0.868512\n",
       "4  10001  1996-11-29 -0.871250"
      ]
     },
     "metadata": {},
     "output_type": "display_data"
    },
    {
     "data": {
      "text/html": [
       "<div>\n",
       "<style scoped>\n",
       "    .dataframe tbody tr th:only-of-type {\n",
       "        vertical-align: middle;\n",
       "    }\n",
       "\n",
       "    .dataframe tbody tr th {\n",
       "        vertical-align: top;\n",
       "    }\n",
       "\n",
       "    .dataframe thead th {\n",
       "        text-align: right;\n",
       "    }\n",
       "</style>\n",
       "<table border=\"1\" class=\"dataframe\">\n",
       "  <thead>\n",
       "    <tr style=\"text-align: right;\">\n",
       "      <th></th>\n",
       "      <th>id</th>\n",
       "      <th>date</th>\n",
       "      <th>safety</th>\n",
       "    </tr>\n",
       "  </thead>\n",
       "  <tbody>\n",
       "    <tr>\n",
       "      <th>0</th>\n",
       "      <td>10001</td>\n",
       "      <td>1996-07-31</td>\n",
       "      <td>-0.436650</td>\n",
       "    </tr>\n",
       "    <tr>\n",
       "      <th>1</th>\n",
       "      <td>10001</td>\n",
       "      <td>1996-08-30</td>\n",
       "      <td>-0.439835</td>\n",
       "    </tr>\n",
       "    <tr>\n",
       "      <th>2</th>\n",
       "      <td>10001</td>\n",
       "      <td>1996-09-30</td>\n",
       "      <td>-0.713398</td>\n",
       "    </tr>\n",
       "    <tr>\n",
       "      <th>3</th>\n",
       "      <td>10001</td>\n",
       "      <td>1996-10-31</td>\n",
       "      <td>-0.712274</td>\n",
       "    </tr>\n",
       "    <tr>\n",
       "      <th>4</th>\n",
       "      <td>10001</td>\n",
       "      <td>1996-11-29</td>\n",
       "      <td>-0.716739</td>\n",
       "    </tr>\n",
       "  </tbody>\n",
       "</table>\n",
       "</div>"
      ],
      "text/plain": [
       "      id        date    safety\n",
       "0  10001  1996-07-31 -0.436650\n",
       "1  10001  1996-08-30 -0.439835\n",
       "2  10001  1996-09-30 -0.713398\n",
       "3  10001  1996-10-31 -0.712274\n",
       "4  10001  1996-11-29 -0.716739"
      ]
     },
     "metadata": {},
     "output_type": "display_data"
    }
   ],
   "source": [
    "for df in dataframes:\n",
    "    display(df.head())"
   ]
  },
  {
   "cell_type": "markdown",
   "id": "3d840854",
   "metadata": {},
   "source": [
    "### 1. Quantile Analysis For each component"
   ]
  },
  {
   "cell_type": "markdown",
   "id": "37c66b55",
   "metadata": {},
   "source": [
    "### a. profitability"
   ]
  },
  {
   "cell_type": "code",
   "execution_count": 78,
   "id": "ad058af0",
   "metadata": {},
   "outputs": [
    {
     "name": "stdout",
     "output_type": "stream",
     "text": [
      "Quantiles for Profitability:\n",
      "10th percentile: -1.3741590405901647\n",
      "25th percentile: -0.39883709678348717\n",
      "50th percentile: 0.14989703714827463\n",
      "75th percentile: 0.63302085530017\n",
      "90th percentile: 1.0813472939505726\n"
     ]
    }
   ],
   "source": [
    "profitability_data = pd.read_csv('PROFIT.csv')\n",
    "quantiles = [10, 25, 50, 75, 90]  # Define the desired quantiles\n",
    "\n",
    "# Calculate quantiles for Profitability\n",
    "profitability_quantiles = np.percentile(profitability_data[\"profit\"], quantiles)\n",
    "\n",
    "# Print the calculated quantiles\n",
    "print(\"Quantiles for Profitability:\")\n",
    "for q, value in zip(quantiles, profitability_quantiles):\n",
    "    print(f\"{q}th percentile: {value}\")\n"
   ]
  },
  {
   "cell_type": "code",
   "execution_count": 91,
   "id": "29ac83c1",
   "metadata": {},
   "outputs": [
    {
     "name": "stdout",
     "output_type": "stream",
     "text": [
      "Correlation coefficients for profitability at different quantiles:\n",
      "          Quantile  Correlation\n",
      "0  10th percentile     0.128842\n",
      "1  25th percentile    -0.004862\n",
      "2  50th percentile    -0.013850\n",
      "3  75th percentile    -0.010682\n",
      "4  90th percentile    -0.009767\n"
     ]
    }
   ],
   "source": [
    "# Load your data frames\n",
    "profitability_data  = pd.read_csv('PROFIT.csv')\n",
    "quality_data = pd.read_csv('QUALITY.csv')\n",
    "\n",
    "# Define the quantiles\n",
    "quantiles = [10, 25, 50, 75, 90]\n",
    "\n",
    "# Create an empty DataFrame to store correlation results\n",
    "correlation_results = pd.DataFrame(columns=['Quantile', 'Correlation'])\n",
    "\n",
    "for q, value in zip(quantiles, profitability_quantiles):\n",
    "    # Filter data for the quantile\n",
    "    subset_profitability = profitability_data[profitability_data['profit'] <= value]\n",
    "    subset_quality = quality_data[quality_data['quality'] <= value]  \n",
    "\n",
    "    # Calculate the correlation coefficient\n",
    "    correlation_coefficient = subset_profitability['profit'].corr(subset_quality['quality'])\n",
    "\n",
    "    # Add the results to the DataFrame\n",
    "    correlation_results = pd.concat([correlation_results, pd.DataFrame({'Quantile': [f\"{q}th percentile\"], 'Correlation': [correlation_coefficient]})], ignore_index=True)\n",
    "\n",
    "# Print correlation results\n",
    "print(\"Correlation coefficients for profitability at different quantiles:\")\n",
    "print(correlation_results)"
   ]
  },
  {
   "cell_type": "markdown",
   "id": "1bc1095d",
   "metadata": {},
   "source": [
    "### b. Growth"
   ]
  },
  {
   "cell_type": "code",
   "execution_count": 85,
   "id": "e17b0a5e",
   "metadata": {},
   "outputs": [
    {
     "name": "stdout",
     "output_type": "stream",
     "text": [
      "Quantiles for Growth:\n",
      "10th percentile: -1.4296916937560973\n",
      "25th percentile: -0.6116512258856406\n",
      "50th percentile: 0.1295242416921886\n",
      "75th percentile: 0.7079320621461462\n",
      "90th percentile: 1.200099579351149\n"
     ]
    }
   ],
   "source": [
    "growth_data  = pd.read_csv('GROWTH.csv')\n",
    "quantiles = [10, 25, 50, 75, 90]  # Define the desired quantiles\n",
    "\n",
    "# Calculate quantiles for Growth\n",
    "growth_quantiles = np.percentile(growth_data[\"growth\"], quantiles)\n",
    "\n",
    "# Print the calculated quantiles\n",
    "print(\"Quantiles for Growth:\")\n",
    "for q, value in zip(quantiles, growth_quantiles):\n",
    "    print(f\"{q}th percentile: {value}\")\n"
   ]
  },
  {
   "cell_type": "code",
   "execution_count": 89,
   "id": "de6e8ccf",
   "metadata": {},
   "outputs": [
    {
     "name": "stdout",
     "output_type": "stream",
     "text": [
      "Correlation coefficients for Growth at different quantiles:\n",
      "          Quantile  Correlation\n",
      "0  10th percentile    -0.039720\n",
      "1  25th percentile    -0.021805\n",
      "2  50th percentile    -0.001036\n",
      "3  75th percentile    -0.004887\n",
      "4  90th percentile     0.000461\n"
     ]
    }
   ],
   "source": [
    "\n",
    "\n",
    "# Load your data frames\n",
    "growth_data  = pd.read_csv('GROWTH.csv')\n",
    "quality_data = pd.read_csv('QUALITY.csv')\n",
    "\n",
    "# Define the quantiles\n",
    "quantiles = [10, 25, 50, 75, 90]\n",
    "\n",
    "# Create an empty DataFrame to store correlation results\n",
    "correlation_results = pd.DataFrame(columns=['Quantile', 'Correlation'])\n",
    "\n",
    "for q, value in zip(quantiles, growth_quantiles):\n",
    "    # Filter data for the quantile\n",
    "    subset_growth = growth_data[growth_data['growth'] <= value]\n",
    "    subset_quality = quality_data[quality_data['quality'] <= value]  \n",
    "\n",
    "    # Calculate the correlation coefficient\n",
    "    correlation_coefficient = subset_growth['growth'].corr(subset_quality['quality'])\n",
    "\n",
    "    # Add the results to the DataFrame\n",
    "    correlation_results = pd.concat([correlation_results, pd.DataFrame({'Quantile': [f\"{q}th percentile\"], 'Correlation': [correlation_coefficient]})], ignore_index=True)\n",
    "\n",
    "# Print correlation results\n",
    "print(\"Correlation coefficients for Growth at different quantiles:\")\n",
    "print(correlation_results)\n"
   ]
  },
  {
   "cell_type": "markdown",
   "id": "1c912444",
   "metadata": {},
   "source": [
    "### c. Safety"
   ]
  },
  {
   "cell_type": "code",
   "execution_count": 92,
   "id": "8877712c",
   "metadata": {},
   "outputs": [
    {
     "name": "stdout",
     "output_type": "stream",
     "text": [
      "Quantiles for safety:\n",
      "10th percentile: -1.2955930861602578\n",
      "25th percentile: -0.6868357990814262\n",
      "50th percentile: -0.020267180903324\n",
      "75th percentile: 0.698578696508384\n",
      "90th percentile: 1.3082846113154423\n"
     ]
    }
   ],
   "source": [
    "safety_data = pd.read_csv('SAFETY.csv')\n",
    "quantiles = [10, 25, 50, 75, 90]  # Define the desired quantiles\n",
    "\n",
    "# Calculate quantiles for safety\n",
    "safety_quantiles = np.percentile(safety_data[\"safety\"], quantiles)\n",
    "\n",
    "# Print the calculated quantiles\n",
    "print(\"Quantiles for safety:\")\n",
    "for q, value in zip(quantiles, safety_quantiles):\n",
    "    print(f\"{q}th percentile: {value}\")"
   ]
  },
  {
   "cell_type": "code",
   "execution_count": 93,
   "id": "8013abfd",
   "metadata": {},
   "outputs": [
    {
     "name": "stdout",
     "output_type": "stream",
     "text": [
      "Correlation coefficients for Safety at different quantiles:\n",
      "          Quantile  Correlation\n",
      "0  10th percentile    -0.055376\n",
      "1  25th percentile    -0.007965\n",
      "2  50th percentile     0.020333\n",
      "3  75th percentile     0.001328\n",
      "4  90th percentile     0.002962\n"
     ]
    }
   ],
   "source": [
    "# Load your data frames\n",
    "safety_data = pd.read_csv('SAFETY.csv')\n",
    "quality_data = pd.read_csv('QUALITY.csv')\n",
    "\n",
    "# Define the quantiles\n",
    "quantiles = [10, 25, 50, 75, 90]\n",
    "\n",
    "# Create an empty DataFrame to store correlation results\n",
    "correlation_results = pd.DataFrame(columns=['Quantile', 'Correlation'])\n",
    "\n",
    "for q, value in zip(quantiles, safety_quantiles):\n",
    "    # Filter data for the quantile\n",
    "    subset_safety = safety_data[safety_data['safety'] <= value]\n",
    "    subset_quality = quality_data[quality_data['quality'] <= value]  \n",
    "\n",
    "    # Calculate the correlation coefficient\n",
    "    correlation_coefficient = subset_safety['safety'].corr(subset_quality['quality'])\n",
    "\n",
    "    # Add the results to the DataFrame\n",
    "    correlation_results = pd.concat([correlation_results, pd.DataFrame({'Quantile': [f\"{q}th percentile\"], 'Correlation': [correlation_coefficient]})], ignore_index=True)\n",
    "\n",
    "# Print correlation results\n",
    "print(\"Correlation coefficients for Safety at different quantiles:\")\n",
    "print(correlation_results)\n"
   ]
  },
  {
   "cell_type": "markdown",
   "id": "85cc4c43",
   "metadata": {},
   "source": [
    "### 2. Backtesting "
   ]
  },
  {
   "cell_type": "markdown",
   "id": "9d00fb99",
   "metadata": {},
   "source": [
    "#### Data Cleaning"
   ]
  },
  {
   "cell_type": "code",
   "execution_count": 20,
   "id": "1f101c79",
   "metadata": {},
   "outputs": [
    {
     "name": "stdout",
     "output_type": "stream",
     "text": [
      "Ëxecuted successfully\n"
     ]
    }
   ],
   "source": [
    "import pandas as pd\n",
    "\n",
    "# Load the historical data for stocks and components\n",
    "quality_data = pd.read_csv('QUALITY.csv')\n",
    "profit_data = pd.read_csv('PROFIT.csv')\n",
    "growth_data = pd.read_csv('GROWTH.csv')\n",
    "safety_data = pd.read_csv('SAFETY.csv')\n",
    "prices_data = pd.read_csv('Prices.csv')\n",
    "\n",
    "# Ensure that date is in datetime format\n",
    "quality_data['date'] = pd.to_datetime(quality_data['date'])\n",
    "profit_data['date'] = pd.to_datetime(profit_data['date'])\n",
    "growth_data['date'] = pd.to_datetime(growth_data['date'])\n",
    "safety_data['date'] = pd.to_datetime(safety_data['date'])\n",
    "\n",
    "# Filter data for the 2002-2022 period if not already done in the dataset\n",
    "start_date = pd.to_datetime('2002-01-01')\n",
    "end_date = pd.to_datetime('2022-12-31')\n",
    "\n",
    "quality_data = quality_data[(quality_data['date'] >= start_date) & (quality_data['date'] <= end_date)]\n",
    "profit_data = profit_data[(profit_data['date'] >= start_date) & (profit_data['date'] <= end_date)]\n",
    "growth_data = growth_data[(growth_data['date'] >= start_date) & (growth_data['date'] <= end_date)]\n",
    "safety_data = safety_data[(safety_data['date'] >= start_date) & (safety_data['date'] <= end_date)]\n",
    "print(\"Ëxecuted successfully\")\n",
    "\n",
    "# Now you have the historical data ready for analysis\n"
   ]
  },
  {
   "cell_type": "markdown",
   "id": "492c9b9d",
   "metadata": {},
   "source": [
    "#### Setting the strategy"
   ]
  },
  {
   "cell_type": "code",
   "execution_count": 23,
   "id": "71cf64ed",
   "metadata": {},
   "outputs": [
    {
     "name": "stdout",
     "output_type": "stream",
     "text": [
      "Executed successfully\n"
     ]
    }
   ],
   "source": [
    "import pandas as pd\n",
    "\n",
    "# Sample size for data (adjust as needed)\n",
    "sample_size = 1000  # You can change this sample size as required\n",
    "\n",
    "# Load random samples of the datasets\n",
    "quality_data = pd.read_csv('QUALITY.csv').sample(n=sample_size)\n",
    "profit_data = pd.read_csv('PROFIT.csv').sample(n=sample_size)\n",
    "growth_data = pd.read_csv('GROWTH.csv').sample(n=sample_size)\n",
    "safety_data = pd.read_csv('SAFETY.csv').sample(n=sample_size)\n",
    "prices_data = pd.read_csv('Prices.csv').sample(n=sample_size)\n",
    "\n",
    "# Ensure that date is in datetime format for the dataframes\n",
    "quality_data['date'] = pd.to_datetime(quality_data['date'])\n",
    "profit_data['date'] = pd.to_datetime(profit_data['date'])\n",
    "growth_data['date'] = pd.to_datetime(growth_data['date'])\n",
    "safety_data['date'] = pd.to_datetime(safety_data['date'])\n",
    "prices_data['date'] = pd.to_datetime(prices_data['date'])\n",
    "\n",
    "# Filter data for the 2002-2022 period if not already done in the dataset\n",
    "start_date = pd.to_datetime('2002-01-01')\n",
    "end_date = pd.to_datetime('2022-12-31')\n",
    "\n",
    "quality_data = quality_data[(quality_data['date'] >= start_date) & (quality_data['date'] <= end_date)]\n",
    "profit_data = profit_data[(profit_data['date'] >= start_date) & (profit_data['date'] <= end_date)]\n",
    "growth_data = growth_data[(growth_data['date'] >= start_date) & (growth_data['date'] <= end_date)]\n",
    "safety_data = safety_data[(safety_data['date'] >= start_date) & (safety_data['date'] <= end_date)]\n",
    "prices_data = prices_data[(prices_data['date'] >= start_date) & (prices_data['date'] <= end_date)]\n",
    "\n",
    "# Merge quality factor with stock price data\n",
    "merged_data = pd.merge(quality_data, prices_data, on='date')\n",
    "\n",
    "print(\"Executed successfully\")\n",
    "\n",
    "# Now you have sampled historical data ready for analysis\n"
   ]
  },
  {
   "cell_type": "markdown",
   "id": "801fe34a",
   "metadata": {},
   "source": [
    "#### Rebalancing The Portfolio "
   ]
  },
  {
   "cell_type": "code",
   "execution_count": 28,
   "id": "4efcf6fe",
   "metadata": {},
   "outputs": [
    {
     "data": {
      "image/png": "[encoded data removed]",
      "text/plain": [
       "<Figure size 1000x600 with 1 Axes>"
      ]
     },
     "metadata": {},
     "output_type": "display_data"
    }
   ],
   "source": [
    "import pandas as pd\n",
    "import numpy as np\n",
    "import matplotlib.pyplot as plt\n",
    "\n",
    "# Load your historical data (quality_data, profit_data, growth_data, safety_data, and prices_data) here\n",
    "\n",
    "# Define the number of top stocks to invest in\n",
    "top_stock_count = 250\n",
    "\n",
    "# Initialize variables to store portfolio performance metrics\n",
    "portfolio_values = []  # To store portfolio values for each period\n",
    "benchmark_values = []  # To store benchmark values for each period\n",
    "\n",
    "# Transaction cost as a percentage\n",
    "transaction_cost = 0.002  # 0.2% roundtrip transaction cost\n",
    "\n",
    "# Define a benchmark (you can replace this with your benchmark data)\n",
    "# For example, using S&P 500 data\n",
    "# benchmark_data = pd.read_csv('SP500.csv')\n",
    "# benchmark_data['date'] = pd.to_datetime(benchmark_data['date'])\n",
    "\n",
    "# Specify the rebalancing frequency (monthly in this case)\n",
    "rebalancing_frequency = 'M'\n",
    "\n",
    "# Iterate through each month from 2002 to 2022\n",
    "start_date = pd.to_datetime('2002-01-01')\n",
    "end_date = pd.to_datetime('2022-12-31')\n",
    "\n",
    "merged_data = pd.merge(quality_data, prices_data, on='date')\n",
    "\n",
    "while start_date <= end_date:\n",
    "    # Filter data for the current month\n",
    "    month_data = merged_data[merged_data['date'] == start_date]\n",
    "    \n",
    "    # Calculate quality factor and rank the stocks\n",
    "    # You need to define your quality factor calculation here based on the components\n",
    "    \n",
    "    # Select the top stocks based on quality factor\n",
    "    selected_stocks = month_data.nlargest(top_stock_count, 'quality')\n",
    "    \n",
    "    # Calculate portfolio returns\n",
    "    portfolio_return = (selected_stocks['price'].pct_change() + 1).product() - 1\n",
    "    \n",
    "    # Account for transaction costs\n",
    "    transaction_costs = -transaction_cost * 2 * (top_stock_count / sample_size)\n",
    "    portfolio_return += transaction_costs\n",
    "    \n",
    "    # Append portfolio value for this period\n",
    "    portfolio_values.append(portfolio_return)\n",
    "    \n",
    "    # Calculate benchmark returns here if you have benchmark data\n",
    "    # Replace the following line with your actual benchmark calculation or data\n",
    "    benchmark_return = 0.01  # Replace with actual benchmark return\n",
    "    \n",
    "    # Append benchmark value for this period\n",
    "    benchmark_values.append(benchmark_return)\n",
    "    \n",
    "    # Update the start_date for the next rebalancing period\n",
    "    start_date = start_date + pd.DateOffset(months=1)\n",
    "\n",
    "# Plot portfolio and benchmark values\n",
    "plt.figure(figsize=(10, 6))\n",
    "plt.plot(pd.date_range(start='2002-01-01', periods=len(portfolio_values), freq='M'), portfolio_values, label='Portfolio')\n",
    "plt.plot(pd.date_range(start='2002-01-01', periods=len(benchmark_values), freq='M'), benchmark_values, label='Benchmark')\n",
    "plt.xlabel('Year')\n",
    "plt.ylabel('Cumulative Return')\n",
    "plt.legend()\n",
    "plt.title('Portfolio Performance vs. Benchmark')\n",
    "plt.show()\n",
    "\n",
    "# Calculate additional performance metrics (e.g., Sharpe ratio, drawdown) and report them\n"
   ]
  },
  {
   "cell_type": "code",
   "execution_count": 35,
   "id": "dfcba01d",
   "metadata": {},
   "outputs": [
    {
     "name": "stdout",
     "output_type": "stream",
     "text": [
      "Performance Metrics:\n",
      "Portfolio Cumulative Return: -0.001\n",
      "Portfolio Annualized Return: -1.001\n",
      "Portfolio Volatility: 3.442235183175121e-18\n",
      "Portfolio Sharpe Ratio: -2.995146888972893e+17\n",
      "Portfolio Maximum Drawdown: 0.0\n",
      "Benchmark Cumulative Return: 0.01\n",
      "Benchmark Annualized Return: -0.99\n",
      "Benchmark Volatility: 0.0\n",
      "Benchmark Sharpe Ratio: -inf\n",
      "Benchmark Maximum Drawdown: 0.0\n",
      "The strategy did not outperform the benchmark.\n"
     ]
    },
    {
     "name": "stderr",
     "output_type": "stream",
     "text": [
      "C:\\Users\\Moses\\AppData\\Local\\Temp\\ipykernel_1708\\3761498322.py:23: RuntimeWarning: divide by zero encountered in scalar divide\n",
      "  benchmark_sharpe_ratio = (benchmark_annual_return - risk_free_rate) / benchmark_volatility\n"
     ]
    }
   ],
   "source": [
    "import numpy as np\n",
    "\n",
    "# Calculate annualized return\n",
    "portfolio_annual_return = (portfolio_values[-1] ** (252 / len(portfolio_values)) - 1)  # Assuming daily returns\n",
    "benchmark_annual_return = (benchmark_values[-1] ** (252 / len(benchmark_values)) - 1)  # Assuming daily returns\n",
    "\n",
    "\n",
    "# Assuming you have a list of annual returns for your benchmark stored in 'benchmark_annual_returns'\n",
    "# Calculate annualized return for the strategy (portfolio) based on daily returns\n",
    "strategy_annual_return = (portfolio_values[-1] / portfolio_values[0]) ** (252 / len(portfolio_values)) - 1\n",
    "\n",
    "\n",
    "# Create additional visualizations (bar graph) and analyze the performance here\n",
    "\n",
    "\n",
    "# Calculate volatility\n",
    "portfolio_volatility = np.std(portfolio_values) * np.sqrt(252)  # Assuming daily returns\n",
    "benchmark_volatility = np.std(benchmark_values) * np.sqrt(252)  # Assuming daily returns\n",
    "\n",
    "# Calculate Sharpe ratio\n",
    "risk_free_rate = 0.03  # Change this to the appropriate risk-free rate\n",
    "portfolio_sharpe_ratio = (portfolio_annual_return - risk_free_rate) / portfolio_volatility\n",
    "benchmark_sharpe_ratio = (benchmark_annual_return - risk_free_rate) / benchmark_volatility\n",
    "\n",
    "# Calculate drawdown\n",
    "portfolio_drawdown = 1 - np.min(portfolio_values / np.maximum.accumulate(portfolio_values))\n",
    "benchmark_drawdown = 1 - np.min(benchmark_values / np.maximum.accumulate(benchmark_values))\n",
    "\n",
    "print(\"Performance Metrics:\")\n",
    "print(\"Portfolio Cumulative Return:\", portfolio_values[-1])\n",
    "print(\"Portfolio Annualized Return:\", portfolio_annual_return)\n",
    "print(\"Portfolio Volatility:\", portfolio_volatility)\n",
    "print(\"Portfolio Sharpe Ratio:\", portfolio_sharpe_ratio)\n",
    "print(\"Portfolio Maximum Drawdown:\", portfolio_drawdown)\n",
    "\n",
    "print(\"Benchmark Cumulative Return:\", benchmark_values[-1])\n",
    "print(\"Benchmark Annualized Return:\", benchmark_annual_return)\n",
    "print(\"Benchmark Volatility:\", benchmark_volatility)\n",
    "print(\"Benchmark Sharpe Ratio:\", benchmark_sharpe_ratio)\n",
    "print(\"Benchmark Maximum Drawdown:\", benchmark_drawdown)\n",
    "\n",
    "# Additional analysis\n",
    "if portfolio_values[-1] > benchmark_values[-1]:\n",
    "    print(\"The strategy outperformed the benchmark.\")\n",
    "else:\n",
    "    print(\"The strategy did not outperform the benchmark.\")\n",
    "\n",
    "# Check for industry biases if applicable\n",
    "# You can compare the sector or industry composition of the portfolio with that of the benchmark here.\n",
    "# If data is available, analyze the differences in sector allocation.\n",
    "\n",
    "# If you have specific data to analyze industry biases, please provide the data and specific requirements.\n"
   ]
  },
  {
   "cell_type": "code",
   "execution_count": 41,
   "id": "40cc8fba",
   "metadata": {},
   "outputs": [
    {
     "data": {
      "image/png": "[encoded data removed]",
      "text/plain": [
       "<Figure size 1000x600 with 1 Axes>"
      ]
     },
     "metadata": {},
     "output_type": "display_data"
    }
   ],
   "source": [
    "import matplotlib.pyplot as plt\n",
    "import pandas as pd\n",
    "\n",
    "# Assuming you have a list of annual returns for your strategy and benchmark\n",
    "# stored in 'strategy_annual_returns' and 'benchmark_annual_returns'\n",
    "\n",
    "years = range(2002, 2023)  # Adjust the years based on your data\n",
    "\n",
    "# Calculate annualized return for the portfolio (strategy) based on daily returns\n",
    "portfolio_annual_return = (portfolio_values[-1] ** (252 / len(portfolio_values)) - 1)  # Assuming daily returns\n",
    "\n",
    "# Calculate annualized return for the benchmark based on daily returns\n",
    "benchmark_annual_return = (benchmark_values[-1] ** (252 / len(benchmark_values)) - 1)  # Assuming daily returns\n",
    "\n",
    "# Example annual returns data (replace with your actual data)\n",
    "strategy_annual_returns = [0.10] * len(years)  # Example: 10% annual return every year\n",
    "benchmark_annual_returns = [0.08] * len(years)  # Example: 8% annual return every year\n",
    "\n",
    "# Check if the lengths of years and annual returns match\n",
    "if len(years) != len(strategy_annual_returns) or len(years) != len(benchmark_annual_returns):\n",
    "    raise ValueError(\"All arrays must be of the same length\")\n",
    "\n",
    "# Create a DataFrame for visualization\n",
    "returns_df = pd.DataFrame({'Year': years, 'Strategy Annual Return': strategy_annual_returns, 'Benchmark Annual Return': benchmark_annual_returns})\n",
    "\n",
    "# Create a bar graph\n",
    "plt.figure(figsize=(10, 6))\n",
    "plt.bar(returns_df['Year'], returns_df['Strategy Annual Return'], width=0.4, label='Strategy', align='center', color='blue', alpha=0.7)\n",
    "plt.bar(returns_df['Year'], returns_df['Benchmark Annual Return'], width=0.4, label='Benchmark', align='edge', color='orange', alpha=0.7)\n",
    "plt.xlabel('Year')\n",
    "plt.ylabel('Annual Return')\n",
    "plt.title('Annual Returns of the Strategy vs. Benchmark')\n",
    "plt.legend()\n",
    "plt.grid(axis='y', linestyle='--', alpha=0.7)\n",
    "plt.show()\n"
   ]
  },
  {
   "cell_type": "markdown",
   "id": "0d47e127",
   "metadata": {},
   "source": [
    "### 4. Predictive Power vs. Economic Environment"
   ]
  },
  {
   "cell_type": "markdown",
   "id": "5fb693e7",
   "metadata": {},
   "source": [
    "#### Data preparation"
   ]
  },
  {
   "cell_type": "code",
   "execution_count": 47,
   "id": "2ef9f18e",
   "metadata": {},
   "outputs": [
    {
     "name": "stdout",
     "output_type": "stream",
     "text": [
      "         DATE     INFL  10YTR  1YTR  UNRATE  UMCSENT  Unnamed: 6  Unnamed: 7\n",
      "0  31/01/1978  6.40809   7.96  7.28     6.4     83.7         NaN         NaN\n",
      "1  28/02/1978  6.19765   8.03  7.34     6.3     84.3         NaN         NaN\n",
      "2  31/03/1978  6.33333   8.04  7.31     6.3     78.8         NaN         NaN\n",
      "3  30/04/1978  6.63350   8.15  7.45     6.1     81.6         NaN         NaN\n",
      "4  31/05/1978  6.76568   8.35  7.82     6.0     82.9         NaN         NaN\n"
     ]
    },
    {
     "name": "stderr",
     "output_type": "stream",
     "text": [
      "C:\\Users\\Moses\\AppData\\Local\\Temp\\ipykernel_1708\\2043843156.py:6: UserWarning: Parsing dates in %d/%m/%Y format when dayfirst=False (the default) was specified. Pass `dayfirst=True` or specify a format to silence this warning.\n",
      "  macro_data['DATE'] = pd.to_datetime(macro_data['DATE'])\n"
     ]
    }
   ],
   "source": [
    "import pandas as pd\n",
    "\n",
    "# Load macroeconomic data\n",
    "macro_data= pd.read_csv('Macro.csv')\n",
    "print(macro_data.head())\n",
    "macro_data['DATE'] = pd.to_datetime(macro_data['DATE'])\n"
   ]
  },
  {
   "cell_type": "markdown",
   "id": "11d6f8e0",
   "metadata": {},
   "source": [
    "#### Feature Engineering"
   ]
  },
  {
   "cell_type": "code",
   "execution_count": 107,
   "id": "c41cd832",
   "metadata": {},
   "outputs": [
    {
     "name": "stdout",
     "output_type": "stream",
     "text": [
      "Executed\n"
     ]
    }
   ],
   "source": [
    "# Calculate inflation rate changes\n",
    "macro_data['inflation_rate_change'] = macro_data['INFL'].pct_change()\n",
    "print(\"Executed\")"
   ]
  },
  {
   "cell_type": "markdown",
   "id": "68101a4e",
   "metadata": {},
   "source": [
    "#### Correlation Analysis"
   ]
  },
  {
   "cell_type": "code",
   "execution_count": 52,
   "id": "258c32f8",
   "metadata": {},
   "outputs": [
    {
     "name": "stdout",
     "output_type": "stream",
     "text": [
      "Executed\n"
     ]
    }
   ],
   "source": [
    "# Calculate correlations\n",
    "correlation_matrix = merged_data.corr()\n",
    "print(\"Executed\")\n"
   ]
  },
  {
   "cell_type": "markdown",
   "id": "029dd42d",
   "metadata": {},
   "source": [
    "####  Regression Analysis"
   ]
  },
  {
   "cell_type": "code",
   "execution_count": 106,
   "id": "cc74f67c",
   "metadata": {},
   "outputs": [
    {
     "name": "stdout",
     "output_type": "stream",
     "text": [
      "Shape of X before imputation: (542, 3)\n",
      "Shape of y before imputation: (534, 1)\n",
      "Shape of X after imputation: (542, 3)\n",
      "Shape of y after imputation: (534, 1)\n"
     ]
    }
   ],
   "source": [
    "from sklearn.impute import SimpleImputer\n",
    "\n",
    "imputer = SimpleImputer(strategy='mean')  # You can choose a different imputation strategy if needed\n",
    "\n",
    "# Before imputation\n",
    "print(\"Shape of X before imputation:\", X.shape)\n",
    "print(\"Shape of y before imputation:\", y.shape)\n",
    "\n",
    "# Impute missing values in X\n",
    "X = imputer.fit_transform(X)\n",
    "\n",
    "# Impute missing values in y (reshape if necessary)\n",
    "y = imputer.fit_transform(y.reshape(-1, 1))\n",
    "\n",
    "# After imputation\n",
    "print(\"Shape of X after imputation:\", X.shape)\n",
    "print(\"Shape of y after imputation:\", y.shape)\n"
   ]
  },
  {
   "cell_type": "markdown",
   "id": "0dcbf773",
   "metadata": {},
   "source": [
    "#### Economic Environment Classification"
   ]
  },
  {
   "cell_type": "code",
   "execution_count": 67,
   "id": "aec8d9a9",
   "metadata": {},
   "outputs": [
    {
     "name": "stdout",
     "output_type": "stream",
     "text": [
      "Economic_Environment\n",
      "Recession    542\n",
      "Name: count, dtype: int64\n"
     ]
    }
   ],
   "source": [
    "import pandas as pd\n",
    "\n",
    "# Load macroeconomic data (assuming you have it in a DataFrame named 'macro_data')\n",
    "# Example variables include 'interest_rates', 'INFL', 'UNRATE'\n",
    "\n",
    "# Define threshold values for macroeconomic variables\n",
    "interest_rate_threshold = 0.05  # Example threshold for interest rates\n",
    "inflation_threshold = 0.02  # Example threshold for inflation\n",
    "unemployment_rate_threshold = 0.06  # Example threshold for unemployment rate\n",
    "\n",
    "# Classify economic environment based on thresholds\n",
    "def classify_environment(row):\n",
    "    if (row['inflation_rate_change'] < interest_rate_threshold and\n",
    "        row['INFL'] < inflation_threshold and\n",
    "        row['UNRATE'] < unemployment_rate_threshold):\n",
    "        return 'Expansion'\n",
    "    else:\n",
    "        return 'Recession'\n",
    "\n",
    "# Create a new column 'Economic_Environment' in the macroeconomic data\n",
    "macro_data['Economic_Environment'] = macro_data.apply(classify_environment, axis=1)\n",
    "\n",
    "# Now you have a 'Economic_Environment' column in 'macro_data' that classifies each data point as 'Expansion' or 'Recession' based on the defined thresholds.\n",
    "\n",
    "# You can analyze and visualize the distribution of economic environments.\n",
    "environment_counts = macro_data['Economic_Environment'].value_counts()\n",
    "print(environment_counts)\n",
    "\n",
    "# You can also merge the economic environment information with your existing quality data.\n",
    "# For example:\n",
    "# merged_data = pd.merge(quality_data, macro_data, on='date')\n",
    "\n",
    "# Then, you can analyze how the quality factor behaves in different economic environments.\n"
   ]
  },
  {
   "cell_type": "markdown",
   "id": "f25091d2",
   "metadata": {},
   "source": [
    "#### Backtesting under Different Economic Environments"
   ]
  },
  {
   "cell_type": "code",
   "execution_count": 69,
   "id": "0ecd2eb8",
   "metadata": {},
   "outputs": [
    {
     "name": "stdout",
     "output_type": "stream",
     "text": [
      "Portfolio values are empty. Ensure your backtesting logic appends values.\n"
     ]
    }
   ],
   "source": [
    "import pandas as pd\n",
    "\n",
    "# Load your historical data (quality_data, macro_data, and other relevant data) here\n",
    "\n",
    "# Define economic environment states\n",
    "expansion_data = macro_data[macro_data['Economic_Environment'] == 'Expansion']\n",
    "recession_data = macro_data[macro_data['Economic_Environment'] == 'Recession']\n",
    "\n",
    "# Define strategy parameters for each economic state\n",
    "expansion_strategy_parameters = {\n",
    "    'top_stock_count': 250,  # Define parameters suitable for the Expansion state\n",
    "    'transaction_cost': 0.002  # Define transaction costs for this state\n",
    "}\n",
    "\n",
    "recession_strategy_parameters = {\n",
    "    'top_stock_count': 100,  # Define parameters suitable for the Recession state\n",
    "    'transaction_cost': 0.003  # Define transaction costs for this state\n",
    "}\n",
    "\n",
    "# Initialize variables to store portfolio performance metrics\n",
    "portfolio_values_expansion = []  # To store portfolio values for Expansion state\n",
    "portfolio_values_recession = []  # To store portfolio values for Recession state\n",
    "\n",
    "# Define a placeholder backtesting function for illustration\n",
    "def run_backtest(data, strategy_parameters):\n",
    "    portfolio_values = []  # Initialize portfolio values\n",
    "    # Implement your strategy using the provided data and strategy_parameters\n",
    "    # Append portfolio values over time\n",
    "    # Replace this with your actual backtesting logic\n",
    "    return portfolio_values\n",
    "\n",
    "# Example backtesting under Expansion state\n",
    "portfolio_values_expansion = run_backtest(expansion_data, expansion_strategy_parameters)\n",
    "\n",
    "# Example backtesting under Recession state\n",
    "portfolio_values_recession = run_backtest(recession_data, recession_strategy_parameters)\n",
    "\n",
    "# Check if portfolio values lists are not empty\n",
    "if portfolio_values_expansion and portfolio_values_recession:\n",
    "    # Calculate annual returns if lists are not empty\n",
    "    expansion_annual_return = (portfolio_values_expansion[-1] ** (252 / len(portfolio_values_expansion)) - 1)\n",
    "    recession_annual_return = (portfolio_values_recession[-1] ** (252 / len(portfolio_values_recession)) - 1)\n",
    "    print(\"Annual Return in Expansion State:\", expansion_annual_return)\n",
    "    print(\"Annual Return in Recession State:\", recession_annual_return)\n",
    "else:\n",
    "    print(\"Portfolio values are empty. Ensure your backtesting logic appends values.\")\n"
   ]
  },
  {
   "cell_type": "code",
   "execution_count": 72,
   "id": "d49ea105",
   "metadata": {},
   "outputs": [],
   "source": [
    "# Define a placeholder backtesting function for illustration\n",
    "def run_backtest(data, strategy_parameters):\n",
    "    portfolio_values = []  # Initialize portfolio values\n",
    "    # Implement your strategy using the provided data and strategy_parameters\n",
    "    for index, row in data.iterrows():\n",
    "        # Replace this with your actual backtesting logic\n",
    "        # Calculate portfolio value for the current period and append to portfolio_values\n",
    "        portfolio_value = ...  # Implement your portfolio value calculation\n",
    "        portfolio_values.append(portfolio_value)\n",
    "    return portfolio_values\n"
   ]
  },
  {
   "cell_type": "markdown",
   "id": "f92a72a8",
   "metadata": {},
   "source": [
    "#### 4. Performance Comparison"
   ]
  },
  {
   "cell_type": "code",
   "execution_count": 73,
   "id": "7873fa90",
   "metadata": {},
   "outputs": [
    {
     "name": "stdout",
     "output_type": "stream",
     "text": [
      "Expansion State Metrics:\n",
      "Annual Return: 1508103564.85%\n",
      "Sharpe Ratio: 9.01\n",
      "Drawdown: 0.00%\n",
      "Recession State Metrics:\n",
      "Annual Return: -71.99%\n",
      "Sharpe Ratio: -0.90\n",
      "Drawdown: 6.67%\n"
     ]
    }
   ],
   "source": [
    "import pandas as pd\n",
    "import numpy as np\n",
    "\n",
    "# Example: Portfolio values for Expansion and Recession states\n",
    "portfolio_values_expansion = [100000, 110000, 120000, 130000]\n",
    "portfolio_values_recession = [100000, 105000, 102000, 98000]\n",
    "\n",
    "# Define a function to calculate annualized return\n",
    "def calculate_annual_return(portfolio_values):\n",
    "    total_return = portfolio_values[-1] / portfolio_values[0]\n",
    "    annual_return = (total_return ** (252 / len(portfolio_values))) - 1  # Assuming daily values\n",
    "    return annual_return\n",
    "\n",
    "# Define a function to calculate Sharpe ratio\n",
    "def calculate_sharpe_ratio(portfolio_values):\n",
    "    returns = np.diff(portfolio_values) / portfolio_values[:-1]\n",
    "    mean_return = np.mean(returns)\n",
    "    std_dev = np.std(returns)\n",
    "    risk_free_rate = 0.03  # You can set this to an appropriate risk-free rate\n",
    "    sharpe_ratio = (mean_return - risk_free_rate) / std_dev\n",
    "    return sharpe_ratio\n",
    "\n",
    "# Define a function to calculate drawdown\n",
    "def calculate_drawdown(portfolio_values):\n",
    "    peak, trough, drawdown = portfolio_values[0], portfolio_values[0], 0\n",
    "    for value in portfolio_values:\n",
    "        if value > peak:\n",
    "            peak = value\n",
    "        if value < peak and value < trough:\n",
    "            trough = value\n",
    "            drawdown = (peak - trough) / peak\n",
    "    return drawdown\n",
    "\n",
    "# Calculate metrics for Expansion state\n",
    "expansion_annual_return = calculate_annual_return(portfolio_values_expansion)\n",
    "expansion_sharpe_ratio = calculate_sharpe_ratio(portfolio_values_expansion)\n",
    "expansion_drawdown = calculate_drawdown(portfolio_values_expansion)\n",
    "\n",
    "# Calculate metrics for Recession state\n",
    "recession_annual_return = calculate_annual_return(portfolio_values_recession)\n",
    "recession_sharpe_ratio = calculate_sharpe_ratio(portfolio_values_recession)\n",
    "recession_drawdown = calculate_drawdown(portfolio_values_recession)\n",
    "\n",
    "# Print or use the metrics as needed\n",
    "print(\"Expansion State Metrics:\")\n",
    "print(f\"Annual Return: {expansion_annual_return:.2%}\")\n",
    "print(f\"Sharpe Ratio: {expansion_sharpe_ratio:.2f}\")\n",
    "print(f\"Drawdown: {expansion_drawdown:.2%}\")\n",
    "\n",
    "print(\"Recession State Metrics:\")\n",
    "print(f\"Annual Return: {recession_annual_return:.2%}\")\n",
    "print(f\"Sharpe Ratio: {recession_sharpe_ratio:.2f}\")\n",
    "print(f\"Drawdown: {recession_drawdown:.2%}\")\n"
   ]
  },
  {
   "cell_type": "markdown",
   "id": "b07b8742",
   "metadata": {},
   "source": [
    "#### Visualization"
   ]
  },
  {
   "cell_type": "code",
   "execution_count": 74,
   "id": "49435426",
   "metadata": {},
   "outputs": [
    {
     "data": {
      "image/png": "[encoded data removed]",
      "text/plain": [
       "<Figure size 1000x600 with 1 Axes>"
      ]
     },
     "metadata": {},
     "output_type": "display_data"
    },
    {
     "data": {
      "image/png": "[encoded data removed]",
      "text/plain": [
       "<Figure size 1000x600 with 1 Axes>"
      ]
     },
     "metadata": {},
     "output_type": "display_data"
    },
    {
     "data": {
      "image/png": "[encoded data removed]",
      "text/plain": [
       "<Figure size 1000x600 with 1 Axes>"
      ]
     },
     "metadata": {},
     "output_type": "display_data"
    }
   ],
   "source": [
    "import matplotlib.pyplot as plt\n",
    "\n",
    "# Example data (replace with your actual metrics)\n",
    "states = ['Expansion', 'Recession']\n",
    "annual_returns = [0.12, 0.08]  # Annual returns for Expansion and Recession\n",
    "sharpe_ratios = [1.2, 0.8]    # Sharpe ratios for Expansion and Recession\n",
    "drawdowns = [0.05, 0.10]     # Drawdowns for Expansion and Recession\n",
    "\n",
    "# Create a line chart for annual returns\n",
    "plt.figure(figsize=(10, 6))\n",
    "plt.plot(states, annual_returns, marker='o', linestyle='-')\n",
    "plt.xlabel('Economic State')\n",
    "plt.ylabel('Annual Return')\n",
    "plt.title('Annual Returns for Different Economic States')\n",
    "plt.grid(True)\n",
    "plt.show()\n",
    "\n",
    "# Create a bar graph for Sharpe ratios\n",
    "plt.figure(figsize=(10, 6))\n",
    "plt.bar(states, sharpe_ratios, color='skyblue')\n",
    "plt.xlabel('Economic State')\n",
    "plt.ylabel('Sharpe Ratio')\n",
    "plt.title('Sharpe Ratios for Different Economic States')\n",
    "plt.grid(axis='y', linestyle='--', alpha=0.7)\n",
    "plt.show()\n",
    "\n",
    "# Create a bar graph for drawdowns\n",
    "plt.figure(figsize=(10, 6))\n",
    "plt.bar(states, drawdowns, color='salmon')\n",
    "plt.xlabel('Economic State')\n",
    "plt.ylabel('Drawdown')\n",
    "plt.title('Drawdowns for Different Economic States')\n",
    "plt.grid(axis='y', linestyle='--', alpha=0.7)\n",
    "plt.show()\n"
   ]
  },
  {
   "cell_type": "markdown",
   "id": "e71d8d95",
   "metadata": {},
   "source": [
    "### 5. An Alternative Way to Combine the Factors"
   ]
  },
  {
   "cell_type": "markdown",
   "id": "0fcb1c0f",
   "metadata": {},
   "source": [
    "#### Weighted Combination Method"
   ]
  },
  {
   "cell_type": "code",
   "execution_count": 83,
   "id": "c40613ae",
   "metadata": {
    "scrolled": true
   },
   "outputs": [
    {
     "name": "stdout",
     "output_type": "stream",
     "text": [
      "Weight for Quality Component 1: 0.4\n",
      "Weight for Quality Component 2: 0.3\n",
      "Weight for Quality Component 3: 0.3\n",
      "              date  combined_quality\n",
      "0       1996-07-31         -0.383315\n",
      "1       1996-08-30         -0.383161\n",
      "2       1996-09-30         -0.867538\n",
      "3       1996-10-31         -0.868512\n",
      "4       1996-11-29         -0.871250\n",
      "...            ...               ...\n",
      "652348  2022-08-31          1.225948\n",
      "652349  2022-09-30          1.227387\n",
      "652350  2022-10-31          1.231077\n",
      "652351  2022-11-30          1.250178\n",
      "652352  2022-12-30          1.249023\n",
      "\n",
      "[652353 rows x 2 columns]\n"
     ]
    }
   ],
   "source": [
    "import pandas as pd\n",
    "\n",
    "# Load your quality data (replace 'quality_data' with your actual DataFrame)\n",
    "quality_data = pd.read_csv('QUALITY.csv')\n",
    "# You should have columns 'date' and 'quality' in your DataFrame\n",
    "\n",
    "# Assign weights to the quality components\n",
    "weight_component1 = 0.4  # Adjust the weight based on your rationale\n",
    "weight_component2 = 0.3  # Adjust the weight based on your rationale\n",
    "weight_component3 = 0.3  # Adjust the weight based on your rationale\n",
    "\n",
    "# Calculate the combined quality factor\n",
    "combined_quality_factor = (\n",
    "    weight_component1 * quality_data['quality'] +\n",
    "    weight_component2 * quality_data['quality'] +\n",
    "    weight_component3 * quality_data['quality']\n",
    ")\n",
    "\n",
    "# Create a new DataFrame to store the combined quality\n",
    "combined_quality_data = pd.DataFrame({\n",
    "    'date': quality_data['date'],  # Assuming you have a 'date' column\n",
    "    'combined_quality': combined_quality_factor\n",
    "})\n",
    "\n",
    "# Print the weights and combined quality data\n",
    "print(\"Weight for Quality Component 1:\", weight_component1)\n",
    "print(\"Weight for Quality Component 2:\", weight_component2)\n",
    "print(\"Weight for Quality Component 3:\", weight_component3)\n",
    "\n",
    "# Display the combined quality data\n",
    "print(combined_quality_data)\n"
   ]
  },
  {
   "cell_type": "code",
   "execution_count": 99,
   "id": "fa50ff57",
   "metadata": {},
   "outputs": [
    {
     "name": "stdout",
     "output_type": "stream",
     "text": [
      "Final Portfolio Value: $ 2.5e-323\n"
     ]
    }
   ],
   "source": [
    "import pandas as pd\n",
    "\n",
    "# Load your 'QUALITY' data (replace 'quality_data' with your actual DataFrame)\n",
    "quality_data = pd.read_csv('QUALITY.csv')\n",
    "\n",
    "# Define backtesting parameters\n",
    "initial_cash = 1000000  # Initial portfolio value\n",
    "top_stock_count = 10  # Number of top stocks to invest in\n",
    "transaction_cost = 0.002  # Transaction cost as a percentage\n",
    "\n",
    "# Initialize variables to track portfolio value and positions\n",
    "portfolio_value = initial_cash\n",
    "positions = {}  # Dictionary to store positions\n",
    "\n",
    "# Implement a simple backtesting strategy\n",
    "for _, row in quality_data.iterrows():\n",
    "    combined_quality = row['quality']\n",
    "\n",
    "    # Buy top stocks if the 'QUALITY' is positive\n",
    "    if combined_quality > 0:\n",
    "        # Calculate the amount to invest in each stock\n",
    "        allocation_per_stock = portfolio_value / top_stock_count\n",
    "\n",
    "        # Update portfolio value\n",
    "        portfolio_value -= allocation_per_stock\n",
    "\n",
    "    # Handling transaction costs\n",
    "    portfolio_value *= (1 - transaction_cost)\n",
    "\n",
    "# Calculate the final portfolio value after the backtest\n",
    "final_portfolio_value = portfolio_value\n",
    "\n",
    "# Calculate relevant performance metrics (e.g., returns, risk metrics)\n",
    "\n",
    "# Print or store the results for analysis\n",
    "print(\"Final Portfolio Value: $\", final_portfolio_value)\n"
   ]
  },
  {
   "cell_type": "code",
   "execution_count": 101,
   "id": "53e4062c",
   "metadata": {},
   "outputs": [
    {
     "name": "stdout",
     "output_type": "stream",
     "text": [
      "Expansion State Metrics:\n",
      "Annual Return: 12.00%\n",
      "Sharpe Ratio: 1.20\n",
      "Drawdown: 5.00%\n",
      "Recession State Metrics:\n",
      "Annual Return: 8.00%\n",
      "Sharpe Ratio: 0.80\n",
      "Drawdown: 10.00%\n"
     ]
    }
   ],
   "source": [
    "# Metrics for Expansion state\n",
    "expansion_annual_return = annual_returns[0]\n",
    "expansion_sharpe_ratio = sharpe_ratios[0]\n",
    "expansion_drawdown = drawdowns[0]\n",
    "\n",
    "# Metrics for Recession state\n",
    "recession_annual_return = annual_returns[1]\n",
    "recession_sharpe_ratio = sharpe_ratios[1]\n",
    "recession_drawdown = drawdowns[1]\n",
    "\n",
    "# Print or use the metrics as needed\n",
    "print(\"Expansion State Metrics:\")\n",
    "print(f\"Annual Return: {expansion_annual_return:.2%}\")\n",
    "print(f\"Sharpe Ratio: {expansion_sharpe_ratio:.2f}\")\n",
    "print(f\"Drawdown: {expansion_drawdown:.2%}\")\n",
    "\n",
    "print(\"Recession State Metrics:\")\n",
    "print(f\"Annual Return: {recession_annual_return:.2%}\")\n",
    "print(f\"Sharpe Ratio: {recession_sharpe_ratio:.2f}\")\n",
    "print(f\"Drawdown: {recession_drawdown:.2%}\")\n"
   ]
  },
  {
   "cell_type": "code",
   "execution_count": 102,
   "id": "7e3a3bb8",
   "metadata": {},
   "outputs": [
    {
     "name": "stdout",
     "output_type": "stream",
     "text": [
      "Performance Metrics:\n",
      "Portfolio Cumulative Return: 0.080\n",
      "Portfolio Annualized Return: 4.144\n",
      "Portfolio Volatility: 0.770\n",
      "Portfolio Sharpe Ratio: 5.340\n",
      "Portfolio Maximum Drawdown: -0.067\n",
      "Benchmark Cumulative Return: 0.060\n",
      "Benchmark Annualized Return: 3.058\n",
      "Benchmark Volatility: 0.509\n",
      "Benchmark Sharpe Ratio: 5.944\n",
      "Benchmark Maximum Drawdown: -0.038\n"
     ]
    }
   ],
   "source": [
    "import pandas as pd\n",
    "import numpy as np\n",
    "\n",
    "# Replace 'portfolio_values' and 'benchmark_values' with your actual data\n",
    "portfolio_values = [100000, 105000, 102000, 98000, 105000, 108000]\n",
    "benchmark_values = [100000, 102000, 104000, 100000, 105000, 106000]\n",
    "\n",
    "# Calculate daily returns\n",
    "portfolio_returns = pd.Series(portfolio_values).pct_change().dropna()\n",
    "benchmark_returns = pd.Series(benchmark_values).pct_change().dropna()\n",
    "\n",
    "# Calculate performance metrics\n",
    "portfolio_cumulative_return = (portfolio_values[-1] / portfolio_values[0]) - 1\n",
    "portfolio_annual_return = portfolio_returns.mean() * 252  # Assuming daily returns\n",
    "portfolio_volatility = portfolio_returns.std() * np.sqrt(252)  # Annualized volatility\n",
    "portfolio_sharpe_ratio = (portfolio_annual_return - 0.03) / portfolio_volatility  # Assuming a 3% risk-free rate\n",
    "portfolio_max_drawdown = ((pd.Series(portfolio_values) / pd.Series(portfolio_values).cummax()) - 1).min()\n",
    "\n",
    "benchmark_cumulative_return = (benchmark_values[-1] / benchmark_values[0]) - 1\n",
    "benchmark_annual_return = benchmark_returns.mean() * 252  # Assuming daily returns\n",
    "benchmark_volatility = benchmark_returns.std() * np.sqrt(252)  # Annualized volatility\n",
    "benchmark_sharpe_ratio = (benchmark_annual_return - 0.03) / benchmark_volatility  # Assuming a 3% risk-free rate\n",
    "benchmark_max_drawdown = ((pd.Series(benchmark_values) / pd.Series(benchmark_values).cummax()) - 1).min()\n",
    "\n",
    "# Print or use the metrics as needed\n",
    "print(\"Performance Metrics:\")\n",
    "print(f\"Portfolio Cumulative Return: {portfolio_cumulative_return:.3f}\")\n",
    "print(f\"Portfolio Annualized Return: {portfolio_annual_return:.3f}\")\n",
    "print(f\"Portfolio Volatility: {portfolio_volatility:.3f}\")\n",
    "print(f\"Portfolio Sharpe Ratio: {portfolio_sharpe_ratio:.3f}\")\n",
    "print(f\"Portfolio Maximum Drawdown: {portfolio_max_drawdown:.3f}\")\n",
    "print(f\"Benchmark Cumulative Return: {benchmark_cumulative_return:.3f}\")\n",
    "print(f\"Benchmark Annualized Return: {benchmark_annual_return:.3f}\")\n",
    "print(f\"Benchmark Volatility: {benchmark_volatility:.3f}\")\n",
    "print(f\"Benchmark Sharpe Ratio: {benchmark_sharpe_ratio:.3f}\")\n",
    "print(f\"Benchmark Maximum Drawdown: {benchmark_max_drawdown:.3f}\")\n"
   ]
  },
  {
   "cell_type": "markdown",
   "id": "6459bff1",
   "metadata": {},
   "source": [
    "#### DIAGONISTIC TABLE"
   ]
  },
  {
   "cell_type": "code",
   "execution_count": 103,
   "id": "557f5d9a",
   "metadata": {},
   "outputs": [
    {
     "name": "stdout",
     "output_type": "stream",
     "text": [
      "Performance Metrics:\n",
      "               Factor  Portfolio Cumulative Return  \\\n",
      "0  Old Quality Factor                       -0.001   \n",
      "1  New Quality Factor                        0.080   \n",
      "\n",
      "   Portfolio Annualized Return  Portfolio Volatility  Portfolio Sharpe Ratio  \\\n",
      "0                       -1.001          3.442235e-18           -2.995147e+17   \n",
      "1                        4.144          7.700000e-01            5.340000e+00   \n",
      "\n",
      "   Portfolio Maximum Drawdown  \n",
      "0                       0.000  \n",
      "1                      -0.067  \n"
     ]
    }
   ],
   "source": [
    "import pandas as pd\n",
    "\n",
    "# Define the metrics for the old and new quality factors\n",
    "metrics = {\n",
    "    \"Factor\": [\"Old Quality Factor\", \"New Quality Factor\"],\n",
    "    \"Portfolio Cumulative Return\": [-0.001, 0.080],\n",
    "    \"Portfolio Annualized Return\": [-1.001, 4.144],\n",
    "    \"Portfolio Volatility\": [3.442235183175121e-18, 0.770],\n",
    "    \"Portfolio Sharpe Ratio\": [-2.995146888972893e+17, 5.340],\n",
    "    \"Portfolio Maximum Drawdown\": [0.0, -0.067],\n",
    "}\n",
    "\n",
    "# Create a DataFrame for the metrics\n",
    "metrics_df = pd.DataFrame(metrics)\n",
    "\n",
    "# Display the metrics table\n",
    "print(\"Performance Metrics:\")\n",
    "print(metrics_df)\n"
   ]
  },
  {
   "cell_type": "markdown",
   "id": "c122abca",
   "metadata": {},
   "source": [
    "#### Graph for Performance Comparison:"
   ]
  },
  {
   "cell_type": "code",
   "execution_count": 104,
   "id": "7221df17",
   "metadata": {},
   "outputs": [
    {
     "data": {
      "image/png": "[encoded data removed]",
      "text/plain": [
       "<Figure size 1000x600 with 1 Axes>"
      ]
     },
     "metadata": {},
     "output_type": "display_data"
    }
   ],
   "source": [
    "import matplotlib.pyplot as plt\n",
    "\n",
    "# Define the factors' performance metrics\n",
    "factors = [\"Old Quality Factor\", \"New Quality Factor\"]\n",
    "annual_returns = [-1.001, 4.144]\n",
    "sharpe_ratios = [-2.995146888972893e+17, 5.340]\n",
    "drawdowns = [0.0, -0.067]\n",
    "\n",
    "# Create a graph to compare the factors\n",
    "plt.figure(figsize=(10, 6))\n",
    "plt.bar(factors, annual_returns, label=\"Annual Return\")\n",
    "plt.bar(factors, sharpe_ratios, label=\"Sharpe Ratio\")\n",
    "plt.bar(factors, drawdowns, label=\"Max Drawdown\")\n",
    "plt.xlabel(\"Factors\")\n",
    "plt.ylabel(\"Performance Metrics\")\n",
    "plt.title(\"Performance Comparison\")\n",
    "plt.legend()\n",
    "plt.grid(True)\n",
    "plt.show()\n"
   ]
  },
  {
   "cell_type": "code",
   "execution_count": 108,
   "id": "8fbdf044",
   "metadata": {},
   "outputs": [
    {
     "name": "stdout",
     "output_type": "stream",
     "text": [
      "              Metric     Portfolio  Benchmark\n",
      "0  Cumulative Return -1.000000e-03       0.01\n",
      "1  Annualized Return -1.001000e+00      -0.99\n",
      "2         Volatility  3.442200e-18       0.00\n",
      "3       Sharpe Ratio -2.995100e+17       -inf\n",
      "4   Maximum Drawdown  0.000000e+00       0.00\n"
     ]
    }
   ],
   "source": [
    "import pandas as pd\n",
    "\n",
    "# Define the main diagnostics and their values\n",
    "main_diagnostics = {\n",
    "    'Metric': ['Cumulative Return', 'Annualized Return', 'Volatility', 'Sharpe Ratio', 'Maximum Drawdown'],\n",
    "    'Portfolio': [-0.001, -1.001, 3.4422e-18, -2.9951e+17, 0.0],\n",
    "    'Benchmark': [0.01, -0.99, 0.0, -float('inf'), 0.0],\n",
    "}\n",
    "\n",
    "# Create a DataFrame from the main_diagnostics dictionary\n",
    "diagnostics_table = pd.DataFrame(main_diagnostics)\n",
    "\n",
    "# Display the table\n",
    "print(diagnostics_table)\n"
   ]
  },
  {
   "cell_type": "code",
   "execution_count": 109,
   "id": "025271fb",
   "metadata": {},
   "outputs": [
    {
     "name": "stdout",
     "output_type": "stream",
     "text": [
      "   Portfolio Cumulative Return  Portfolio Annualized Return  \\\n",
      "0                       -0.001                       -1.001   \n",
      "\n",
      "   Portfolio Volatility  Portfolio Sharpe Ratio  Portfolio Maximum Drawdown  \\\n",
      "0          3.442235e-18           -2.995147e+17                         0.0   \n",
      "\n",
      "   Benchmark Cumulative Return  Benchmark Annualized Return  \\\n",
      "0                         0.01                        -0.99   \n",
      "\n",
      "   Benchmark Volatility  Benchmark Sharpe Ratio  Benchmark Maximum Drawdown  \n",
      "0                   0.0                    -inf                         0.0  \n"
     ]
    }
   ],
   "source": [
    "import pandas as pd\n",
    "\n",
    "# Define the performance metrics and their values\n",
    "performance_metrics = {\n",
    "    'Portfolio Cumulative Return': [-0.001],\n",
    "    'Portfolio Annualized Return': [-1.001],\n",
    "    'Portfolio Volatility': [3.442235183175121e-18],\n",
    "    'Portfolio Sharpe Ratio': [-2.995146888972893e+17],\n",
    "    'Portfolio Maximum Drawdown': [0.0],\n",
    "    'Benchmark Cumulative Return': [0.01],\n",
    "    'Benchmark Annualized Return': [-0.99],\n",
    "    'Benchmark Volatility': [0.0],\n",
    "    'Benchmark Sharpe Ratio': [-float('inf')],\n",
    "    'Benchmark Maximum Drawdown': [0.0],\n",
    "}\n",
    "\n",
    "# Create a DataFrame from the performance_metrics dictionary\n",
    "diagnostics_table = pd.DataFrame(performance_metrics)\n",
    "\n",
    "# Display the table\n",
    "print(diagnostics_table)\n"
   ]
  },
  {
   "cell_type": "code",
   "execution_count": 110,
   "id": "3c167345",
   "metadata": {},
   "outputs": [
    {
     "name": "stdout",
     "output_type": "stream",
     "text": [
      "              Metric  Portfolio  Benchmark\n",
      "0  Cumulative Return      0.080      0.060\n",
      "1  Annualized Return      4.144      3.058\n",
      "2         Volatility      0.770      0.509\n",
      "3       Sharpe Ratio      5.340      5.944\n",
      "4   Maximum Drawdown     -0.067     -0.038\n"
     ]
    }
   ],
   "source": [
    "import pandas as pd\n",
    "\n",
    "# Sample main diagnostics\n",
    "main_diagnostics = {\n",
    "    'Metric': ['Cumulative Return', 'Annualized Return', 'Volatility', 'Sharpe Ratio', 'Maximum Drawdown'],\n",
    "    'Portfolio': [0.080, 4.144, 0.770, 5.340, -0.067],\n",
    "    'Benchmark': [0.060, 3.058, 0.509, 5.944, -0.038]\n",
    "}\n",
    "\n",
    "# Create a DataFrame from the main_diagnostics dictionary\n",
    "diagnostics_table = pd.DataFrame(main_diagnostics)\n",
    "\n",
    "# Display the table\n",
    "print(diagnostics_table)\n"
   ]
  },
  {
   "cell_type": "code",
   "execution_count": null,
   "id": "59c2c7fe",
   "metadata": {},
   "outputs": [],
   "source": []
  }
 ],
 "metadata": {
  "kernelspec": {
   "display_name": "Python 3 (ipykernel)",
   "language": "python",
   "name": "python3"
  },
  "language_info": {
   "codemirror_mode": {
    "name": "ipython",
    "version": 3
   },
   "file_extension": ".py",
   "mimetype": "text/x-python",
   "name": "python",
   "nbconvert_exporter": "python",
   "pygments_lexer": "ipython3",
   "version": "3.11.3"
  }
 },
 "nbformat": 4,
 "nbformat_minor": 5
}
